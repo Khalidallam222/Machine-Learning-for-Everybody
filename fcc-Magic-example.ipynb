{
 "cells": [
  {
   "cell_type": "code",
   "execution_count": 1,
   "id": "e77639f7-2521-4620-956f-6721335b20af",
   "metadata": {},
   "outputs": [],
   "source": [
    "import numpy as np\n",
    "import pandas as pd\n",
    "import matplotlib.pyplot as plt"
   ]
  },
  {
   "cell_type": "markdown",
   "id": "94f93818-97fe-4b82-b873-25ca3989de20",
   "metadata": {},
   "source": [
    "MAGIC dataset: https://archive.ics.uci.edu/ml/datase..."
   ]
  },
  {
   "cell_type": "code",
   "execution_count": 5,
   "id": "cfb9fd9c-4d61-47f9-8323-edcf5290853a",
   "metadata": {},
   "outputs": [],
   "source": [
    "cols = [\"fLength\", \"fWidth\", \"fSize\", \"fConc\", \"fConc1, \"fAsym\", \"fM3Long\", \"fM3Trans\", \"fAlpha\", \"fDist\", \"Class\"]\n",
    "df = pd.read_csv(\"magic04.data\", names = cols)\n",
    "df.head()"
   ]
  },
  {
   "cell_type": "code",
   "execution_count": null,
   "id": "5fbb6fbd-d7a1-494d-a908-94207ed0f552",
   "metadata": {},
   "outputs": [],
   "source": []
  }
 ],
 "metadata": {
  "kernelspec": {
   "display_name": "Python 3 (ipykernel)",
   "language": "python",
   "name": "python3"
  },
  "language_info": {
   "codemirror_mode": {
    "name": "ipython",
    "version": 3
   },
   "file_extension": ".py",
   "mimetype": "text/x-python",
   "name": "python",
   "nbconvert_exporter": "python",
   "pygments_lexer": "ipython3",
   "version": "3.10.13"
  }
 },
 "nbformat": 4,
 "nbformat_minor": 5
}
